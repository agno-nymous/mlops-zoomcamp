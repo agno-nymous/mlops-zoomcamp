{
 "cells": [
  {
   "cell_type": "code",
   "execution_count": 3,
   "metadata": {},
   "outputs": [
    {
     "name": "stdout",
     "output_type": "stream",
     "text": [
      "make_bucket: nyc-duration\n",
      "2024-07-03 22:11:57       3620 2023-01.parquet\n"
     ]
    },
    {
     "data": {
      "text/plain": [
       "0"
      ]
     },
     "execution_count": 3,
     "metadata": {},
     "output_type": "execute_result"
    }
   ],
   "source": [
    "import os\n",
    "import pandas as pd\n",
    "from datetime import datetime\n",
    "\n",
    "def dt(hour, minute, second=0):\n",
    "    return datetime(2023, 1, 1, hour, minute, second)\n",
    "\n",
    "# Set the environment variables for Localstack\n",
    "os.environ['AWS_ACCESS_KEY_ID'] = 'test'\n",
    "os.environ['AWS_SECRET_ACCESS_KEY'] = 'test'\n",
    "os.environ['AWS_DEFAULT_REGION'] = 'us-east-1'\n",
    "os.environ['S3_ENDPOINT_URL'] = 'http://localhost:4566'\n",
    "\n",
    "# Define the S3 bucket and file paths\n",
    "bucket = \"nyc-duration\"\n",
    "input_file = f's3://{bucket}/in/2023-01.parquet'\n",
    "output_file = f's3://{bucket}/out/2023-01.parquet'\n",
    "\n",
    "# Create Localstack bucket\n",
    "os.system(f\"aws --endpoint-url=http://localhost:4566 s3 mb s3://{bucket}\")\n",
    "\n",
    "# Create the dataframe\n",
    "data = [\n",
    "    (None, None, dt(1, 1), dt(1, 10)),\n",
    "    (1, 1, dt(1, 2), dt(1, 10)),\n",
    "    (1, None, dt(1, 2, 0), dt(1, 2, 59)),\n",
    "    (3, 4, dt(1, 2, 0), dt(2, 2, 1)),      \n",
    "]\n",
    "columns = ['PULocationID', 'DOLocationID', 'tpep_pickup_datetime', 'tpep_dropoff_datetime']\n",
    "df_input = pd.DataFrame(data, columns=columns)\n",
    "\n",
    "# Save the dataframe to S3\n",
    "options = {\n",
    "    'client_kwargs': {\n",
    "        'endpoint_url': os.getenv(\"S3_ENDPOINT_URL\")\n",
    "    }\n",
    "}\n",
    "\n",
    "df_input.to_parquet(\n",
    "    input_file,\n",
    "    engine='pyarrow',\n",
    "    compression=None,\n",
    "    index=False,\n",
    "    storage_options=options\n",
    ")\n",
    "\n",
    "# Verify the file was created\n",
    "os.system(f\"aws --endpoint-url=http://localhost:4566 s3 ls s3://{bucket}/in/\")\n"
   ]
  }
 ],
 "metadata": {
  "kernelspec": {
   "display_name": ".venv",
   "language": "python",
   "name": "python3"
  },
  "language_info": {
   "codemirror_mode": {
    "name": "ipython",
    "version": 3
   },
   "file_extension": ".py",
   "mimetype": "text/x-python",
   "name": "python",
   "nbconvert_exporter": "python",
   "pygments_lexer": "ipython3",
   "version": "3.10.12"
  }
 },
 "nbformat": 4,
 "nbformat_minor": 2
}
